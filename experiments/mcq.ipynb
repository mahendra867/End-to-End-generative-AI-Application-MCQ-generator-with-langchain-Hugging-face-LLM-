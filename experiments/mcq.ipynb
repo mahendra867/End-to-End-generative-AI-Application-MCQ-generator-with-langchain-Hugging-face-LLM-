{
 "cells": [
  {
   "cell_type": "code",
   "execution_count": 1,
   "metadata": {},
   "outputs": [],
   "source": [
    "import os\n",
    "import json\n",
    "import pandas as pd\n",
    "import traceback"
   ]
  },
  {
   "cell_type": "code",
   "execution_count": null,
   "metadata": {},
   "outputs": [],
   "source": [
    "\n",
    "## Libraries Required\n",
    "\n",
    " # Huggingface hub has various repositories by which we call various opensource llm models\n",
    "!pip install langchain-huggingface \n",
    "## For API Calls\n",
    "!pip install huggingface_hub  \n",
    "\n",
    "# if if go head and search for any of llm model one of the feature of calling this particular model by is using transformers pipeline\n",
    "!pip install transformers    \n",
    "!pip install accelerate\n",
    "!pip install  bitsandbytes\n",
    "!pip install langchain"
   ]
  },
  {
   "cell_type": "code",
   "execution_count": 2,
   "metadata": {},
   "outputs": [],
   "source": [
    "# from langchain. import ChatOpenAI\n",
    "from langchain import PromptTemplate, HuggingFaceHub, LLMChain  # ascessing the llms models of openAI API by langchain framework\n",
    "from langchain_huggingface import HuggingFaceEndpoint"
   ]
  },
  {
   "cell_type": "markdown",
   "metadata": {},
   "source": [
    "## Different Types of collecting OpenAI Key\n",
    "\n",
    "### Using the OS Module to Access Environment Variables\n",
    "### Avoid Direct Pasting\n",
    "- Use os module to read environment variables securely.\n",
    "### Method to Access Environment Variable\n",
    "- Use os.getenv to read the variable.\n",
    "\n",
    "\n",
    "- import os\n",
    "- openai_key = os.getenv('OPENAI_API_KEY')\n",
    "\n",
    "\n",
    "### Creating Environment Variables\n",
    "#### Windows Environment Variable:\n",
    "\n",
    "- Search \"Environment Variables\" in Windows.\n",
    "- Add the key-value pair.\n",
    "\n",
    "#### Temporary Export in Terminal:\n",
    "\n",
    "- Use export command:\n",
    "\n",
    "- export OPENAI_API_KEY='your_openai_key'\n",
    "\n",
    "### Creating a .env File\n",
    "- Create .env file in project directory:\n",
    "\n",
    "\n",
    "- OPENAI_API_KEY=\"your_openai_key\"\n",
    "\n",
    "\n",
    "### Reading from .env File\n",
    "Use python-dotenv to read .env file:\n",
    "\n",
    "\n",
    "from dotenv import load_dotenv\n",
    "import os\n",
    "\n",
    "- load_dotenv()\n",
    "- openai_key = os.getenv('OPENAI_API_KEY')"
   ]
  },
  {
   "cell_type": "code",
   "execution_count": 3,
   "metadata": {},
   "outputs": [
    {
     "data": {
      "text/plain": [
       "True"
      ]
     },
     "execution_count": 3,
     "metadata": {},
     "output_type": "execute_result"
    }
   ],
   "source": [
    "from dotenv import load_dotenv  # Python-dotenv reads key-value pairs from a .env file and can set them as environment variables., we use this library to read the open AI api key secretly rather than exposing it to public it helps us to read the key in secrete and than after mentioning the key value pair of openai key in .env file makesure add this .env file to .gitiognore so it wont get push to github\n",
    "\n",
    "load_dotenv()  # take environment variables from .env."
   ]
  },
  {
   "cell_type": "code",
   "execution_count": 4,
   "metadata": {},
   "outputs": [],
   "source": [
    "# reading the hugginface api key token from .env file \n",
    "KEY=os.getenv(\"HUGGINGFACEHUB_API_TOKEN\")\n"
   ]
  },
  {
   "cell_type": "markdown",
   "metadata": {},
   "source": [
    "### Importing the LLM model  from hugging face"
   ]
  },
  {
   "cell_type": "code",
   "execution_count": 5,
   "metadata": {},
   "outputs": [
    {
     "name": "stderr",
     "output_type": "stream",
     "text": [
      "WARNING! token is not default parameter.\n",
      "                    token was transferred to model_kwargs.\n",
      "                    Please make sure that token is what you intended.\n",
      "c:\\Users\\mahen\\anaconda_new\\envs\\env\\lib\\site-packages\\tqdm\\auto.py:21: TqdmWarning: IProgress not found. Please update jupyter and ipywidgets. See https://ipywidgets.readthedocs.io/en/stable/user_install.html\n",
      "  from .autonotebook import tqdm as notebook_tqdm\n"
     ]
    },
    {
     "name": "stdout",
     "output_type": "stream",
     "text": [
      "The token has not been saved to the git credentials helper. Pass `add_to_git_credential=True` in this function directly or `--add-to-git-credential` if using via `huggingface-cli` if you want to set the git credential as well.\n",
      "Token is valid (permission: write).\n",
      "Your token has been saved to C:\\Users\\mahen\\.cache\\huggingface\\token\n",
      "Login successful\n"
     ]
    }
   ],
   "source": [
    "# mistralai/Mistral-7B-Instruct-v0.2 , microsoft/Phi-3-mini-4k-instruct\n",
    "# now i have created object for the HuggingfaceHUb class in that object i can able to collect the specified repo_id of model  in llm variable\n",
    "llm =HuggingFaceEndpoint(\n",
    "    repo_id=\"meta-llama/Meta-Llama-3-8B-Instruct\",\n",
    "    temperature= 0.5,\n",
    "    token=KEY\n",
    ")"
   ]
  },
  {
   "cell_type": "code",
   "execution_count": null,
   "metadata": {},
   "outputs": [],
   "source": [
    "print(llm) # as we can see we have imported llm model from hugging face "
   ]
  },
  {
   "cell_type": "code",
   "execution_count": 7,
   "metadata": {},
   "outputs": [],
   "source": [
    "from langchain.llms import OpenAI\n",
    "from langchain.prompts import PromptTemplate\n",
    "from langchain.chains import LLMChain\n",
    "from langchain.chains import SequentialChain\n",
    "from langchain.callbacks import get_openai_callback\n",
    "import PyPDF2"
   ]
  },
  {
   "cell_type": "markdown",
   "metadata": {},
   "source": [
    "### Working with LLMs Using LLMChain Framework\n",
    "\n",
    "1. **Introduction to LLM Usage**\n",
    "   - Accessing LLM (GPT model) via Hugging face API using LLMChain framework.\n",
    "   - Importance of designing input and output prompts for interaction with the model.\n",
    "\n",
    "2. **Designing Input Prompts**\n",
    "   - To interact with the LLM, an input prompt is necessary.\n",
    "   - The input prompt is crafted to guide the model on what to generate.\n",
    "\n",
    "3. **Output Response from LLM**\n",
    "   - The output from the LLM is also considered a prompt.\n",
    "   - The design of input and output prompts is crucial for obtaining the desired results.\n",
    "\n",
    "4. **Project Context: MCQ Generator**\n",
    "   - The goal is to generate Multiple Choice Questions (MCQs) using GPT models.\n",
    "   - Input: A paragraph or text related to a subject (e.g., data science).\n",
    "   - Output: MCQs generated based on the input text.\n",
    "\n",
    "5. **Example Scenario**\n",
    "   - Providing a paragraph related to data science to the GPT model.\n",
    "   - The model processes the paragraph and generates relevant MCQs.\n",
    "\n",
    "6. **Steps to Design Prompts**\n",
    "   - Use a prompt template to design input prompts.\n",
    "   - The output from the model will be a well-structured prompt containing the MCQs."
   ]
  },
  {
   "cell_type": "markdown",
   "metadata": {},
   "source": [
    "### creating Chain 1 which includes the prompt template1 + llm and prompt template dependends on Template and input varible which user will pass"
   ]
  },
  {
   "cell_type": "code",
   "execution_count": 8,
   "metadata": {},
   "outputs": [],
   "source": [
    "# formatting the question of input prompt in desired formate we are making our model to learn this customized question for generating the mcqs output by the llm model\n",
    "TEMPLATE = \"\"\"\n",
    "Text:{text}\n",
    "You are an expert MCQ maker. Given the above text, it is your job to create a quiz of {number} multiple choice questions for {subject} students in {tone} tone. \n",
    "Make sure the questions are not repeated and check all the questions to be conforming the text as well.\n",
    "Ensure to make {number} MCQs \n",
    "\"\"\""
   ]
  },
  {
   "cell_type": "code",
   "execution_count": 9,
   "metadata": {},
   "outputs": [],
   "source": [
    "# creating a PromptTemplate 1\n",
    " \n",
    "quiz_generation_prompt = PromptTemplate(\n",
    "    input_variables=[\"text\", \"number\", \"subject\", \"tone\"], # these input variables is going to enter by users for generting mcqs of document by the llm model\n",
    "    template=TEMPLATE\n",
    "    )"
   ]
  },
  {
   "cell_type": "code",
   "execution_count": 10,
   "metadata": {},
   "outputs": [
    {
     "name": "stderr",
     "output_type": "stream",
     "text": [
      "c:\\Users\\mahen\\anaconda_new\\envs\\env\\lib\\site-packages\\langchain_core\\_api\\deprecation.py:139: LangChainDeprecationWarning: The class `LLMChain` was deprecated in LangChain 0.1.17 and will be removed in 0.3.0. Use RunnableSequence, e.g., `prompt | llm` instead.\n",
      "  warn_deprecated(\n"
     ]
    }
   ],
   "source": [
    "# creating the  chain 1 = we use llm chain for connecting serval components here in our case we are going to connect llm +prompt template1\n",
    "quiz_chain=LLMChain(llm=llm, prompt=quiz_generation_prompt, output_key=\"quiz\", verbose=True)"
   ]
  },
  {
   "cell_type": "markdown",
   "metadata": {},
   "source": [
    "### creating Chain 2 which includes the prompt template 2 + llm and prompt template 2 dependends on Template and input varible which user will pass"
   ]
  },
  {
   "cell_type": "code",
   "execution_count": 11,
   "metadata": {},
   "outputs": [],
   "source": [
    "# i have designed another template formate which this pattern question analyze and evaluate the output response answers of template 1 means this template 2 analyze whether the answers of the mcqs of the template 1 of response json output given correct or not my template 2 will evaluate once the mcqs got generated by template 1\n",
    "TEMPLATE2 = \"\"\"\n",
    "You are an expert English grammarian and writer. Given a Multiple Choice Quiz for {subject} students.\n",
    "You need to evaluate the complexity of the question and give a complete analysis of the quiz if the students will be able to understand the questions and answer them. Only use at max 50 words for complexity analysis.\n",
    "And make sure dont generate this thing Best regards, [Your Name] and also keep in mind that generate the mcqs in good formate and give a space between them while generating output \n",
    "Check from an expert English Writer of the below quiz:\n",
    "{quiz}\n",
    "\"\"\""
   ]
  },
  {
   "cell_type": "code",
   "execution_count": 12,
   "metadata": {},
   "outputs": [
    {
     "name": "stdout",
     "output_type": "stream",
     "text": [
      "input_variables=['quiz', 'subject'] template='\\nYou are an expert English grammarian and writer. Given a Multiple Choice Quiz for {subject} students.\\nYou need to evaluate the complexity of the question and give a complete analysis of the quiz if the students will be able to understand the questions and answer them. Only use at max 50 words for complexity analysis.\\nAnd make sure dont generate this thing Best regards, [Your Name] and also keep in mind that generate the mcqs in good formate and give a space between them while generating output \\nCheck from an expert English Writer of the below quiz:\\n{quiz}\\n'\n"
     ]
    }
   ],
   "source": [
    "# here i have created the prompt template 2 for the template2 which it takes the input variables from the user and those input varibles get passed to the template and our llm model based on the template formate it generates output \n",
    "quiz_evaluation_prompt=PromptTemplate(input_variables=[\"subject\", \"quiz\"], template=TEMPLATE2)\n",
    "print(quiz_evaluation_prompt)"
   ]
  },
  {
   "cell_type": "markdown",
   "metadata": {},
   "source": [
    "### Creating chain 2 with prompt Template 2 + LLMm"
   ]
  },
  {
   "cell_type": "code",
   "execution_count": 13,
   "metadata": {},
   "outputs": [],
   "source": [
    "# Now creating chain2 which it connects  the quiz prompt evaluation + llm \n",
    "review_chain=LLMChain(llm=llm, prompt=quiz_evaluation_prompt, output_key=\"review\", verbose=True) # here i connceted the llm with prompt which evaluates the mcqs based on the output key variable "
   ]
  },
  {
   "cell_type": "markdown",
   "metadata": {},
   "source": [
    "###  Connecting chain 1 + chain 2 with Sequential chain"
   ]
  },
  {
   "cell_type": "code",
   "execution_count": 14,
   "metadata": {},
   "outputs": [],
   "source": [
    "# By using SequentiaChain concept iam going to connect the 2 chains\n",
    "generate_evaluate_chain=SequentialChain(chains=[quiz_chain, review_chain], input_variables=[\"text\", \"number\", \"subject\", \"tone\"],\n",
    "                                        output_variables=[\"quiz\", \"review\"], verbose=True,) # here in the chain argument we passed the quiz_chain,review_chain so the quiz_chain generates the mcqs by the llm which it uses prompt template 1and review chain evaluates the generated mcqs by llm which it uses the prompt template 2 "
   ]
  },
  {
   "cell_type": "markdown",
   "metadata": {},
   "source": [
    "### Taking the input data content inorder to read the input data content by our llm model"
   ]
  },
  {
   "cell_type": "code",
   "execution_count": 15,
   "metadata": {},
   "outputs": [],
   "source": [
    "file_path=r\"C:\\datascience End to End Projects\\generative-MCQ-generator-with-langchain-OpenAI-LLM\\data.txt\""
   ]
  },
  {
   "cell_type": "code",
   "execution_count": 16,
   "metadata": {},
   "outputs": [
    {
     "data": {
      "text/plain": [
       "'C:\\\\datascience End to End Projects\\\\generative-MCQ-generator-with-langchain-OpenAI-LLM\\\\data.txt'"
      ]
     },
     "execution_count": 16,
     "metadata": {},
     "output_type": "execute_result"
    }
   ],
   "source": [
    "file_path"
   ]
  },
  {
   "cell_type": "code",
   "execution_count": 17,
   "metadata": {},
   "outputs": [],
   "source": [
    "## reading the file input data content \n",
    "with open(file_path, 'r') as file:\n",
    "    TEXT = file.read()"
   ]
  },
  {
   "cell_type": "code",
   "execution_count": 18,
   "metadata": {},
   "outputs": [
    {
     "name": "stdout",
     "output_type": "stream",
     "text": [
      "The term machine learning was coined in 1959 by Arthur Samuel, an IBM employee and pioneer in the field of computer gaming and artificial intelligence.[9][10] The synonym self-teaching computers was also used in this time period.[11][12]\\n\\nAlthough the earliest machine learning model was introduced in the 1950s when Arthur Samuel invented a program that calculated the winning chance in checkers for each side, the history of machine learning roots back to decades of human desire and effort to study human cognitive processes.[13] In 1949, Donald Hebb, a Canadian psychologist, published a book titled The Organization of Behavior where he introduces the Hebbian theory, discussing the neural structure or synapses between the nerve cells.[14] Hebb’s model of neurons interacting with one another sets a groundwork for how AIs and machine learning algorithms work under nodes, or artificial neurons used by computers to communicate data.[13] Other researchers who have studied on human cognitive systems contributed to the modern machine learning technologies as well including logician Walter Pitts and Warren McCulloch, who proposed the early mathematical models of neural networks to come up with algorithms that mirror human thought processes.[13]\\n\\nBy the early 1960s an experimental \"learning machine\" with punched tape memory, called Cybertron, had been developed by Raytheon Company to analyze sonar signals, electrocardiograms, and speech patterns using rudimentary reinforcement learning. It was repetitively \"trained\" by a human operator/teacher to recognize patterns and equipped with a \"goof\" button to cause it to re-evaluate incorrect decisions.[15] A representative book on research into machine learning during the 1960s was Nilsson\\'s book on Learning Machines, dealing mostly with machine learning for pattern classification.[16] Interest related to pattern recognition continued into the 1970s, as described by Duda and Hart in 1973.[17] In 1981 a report was given on using teaching strategies so that a neural network learns to recognize 40 characters (26 letters, 10 digits, and 4 special symbols) from a computer terminal.[18]\\n\\nTom M. Mitchell provided a widely quoted, more formal definition of the algorithms studied in the machine learning field: \"A computer program is said to learn from experience E with respect to some class of tasks T and performance measure P if its performance at tasks in T, as measured by P, improves with experience E.\"[19] This definition of the tasks in which machine learning is concerned offers a fundamentally operational definition rather than defining the field in cognitive terms. This follows Alan Turing\\'s proposal in his paper \"Computing Machinery and Intelligence\", in which the question \"Can machines think?\" is replaced with the question \"Can machines do what we (as thinking entities) can do?\".[20]\\n\\nModern-day machine learning has two objectives, one is to classify data based on models which have been developed, the other purpose is to make predictions for future outcomes based on these models. A hypothetical algorithm specific to classifying data may use computer vision of moles coupled with supervised learning in order to train it to classify the cancerous moles. A machine learning algorithm for stock trading may inform the trader of future potential predictions.[21]\n"
     ]
    }
   ],
   "source": [
    "print(TEXT)"
   ]
  },
  {
   "cell_type": "code",
   "execution_count": 19,
   "metadata": {},
   "outputs": [],
   "source": [
    "# here this is the input paramters we need to pass to the sequential chain in order to generate the outputs of 2 chains , iam consider as user and i have given the parameters for generating the mcqs \n",
    "NUMBER=5 \n",
    "SUBJECT=\"machine learning\"\n",
    "TONE=\"simple\" # tone stands for temperature \n"
   ]
  },
  {
   "cell_type": "code",
   "execution_count": 20,
   "metadata": {},
   "outputs": [
    {
     "name": "stderr",
     "output_type": "stream",
     "text": [
      "c:\\Users\\mahen\\anaconda_new\\envs\\env\\lib\\site-packages\\langchain_core\\_api\\deprecation.py:139: LangChainDeprecationWarning: The method `Chain.__call__` was deprecated in langchain 0.1.0 and will be removed in 0.3.0. Use invoke instead.\n",
      "  warn_deprecated(\n"
     ]
    },
    {
     "name": "stdout",
     "output_type": "stream",
     "text": [
      "\n",
      "\n",
      "\u001b[1m> Entering new SequentialChain chain...\u001b[0m\n",
      "\n",
      "\n",
      "\u001b[1m> Entering new LLMChain chain...\u001b[0m\n",
      "Prompt after formatting:\n",
      "\u001b[32;1m\u001b[1;3m\n",
      "Text:The term machine learning was coined in 1959 by Arthur Samuel, an IBM employee and pioneer in the field of computer gaming and artificial intelligence.[9][10] The synonym self-teaching computers was also used in this time period.[11][12]\\n\\nAlthough the earliest machine learning model was introduced in the 1950s when Arthur Samuel invented a program that calculated the winning chance in checkers for each side, the history of machine learning roots back to decades of human desire and effort to study human cognitive processes.[13] In 1949, Donald Hebb, a Canadian psychologist, published a book titled The Organization of Behavior where he introduces the Hebbian theory, discussing the neural structure or synapses between the nerve cells.[14] Hebb’s model of neurons interacting with one another sets a groundwork for how AIs and machine learning algorithms work under nodes, or artificial neurons used by computers to communicate data.[13] Other researchers who have studied on human cognitive systems contributed to the modern machine learning technologies as well including logician Walter Pitts and Warren McCulloch, who proposed the early mathematical models of neural networks to come up with algorithms that mirror human thought processes.[13]\\n\\nBy the early 1960s an experimental \"learning machine\" with punched tape memory, called Cybertron, had been developed by Raytheon Company to analyze sonar signals, electrocardiograms, and speech patterns using rudimentary reinforcement learning. It was repetitively \"trained\" by a human operator/teacher to recognize patterns and equipped with a \"goof\" button to cause it to re-evaluate incorrect decisions.[15] A representative book on research into machine learning during the 1960s was Nilsson\\'s book on Learning Machines, dealing mostly with machine learning for pattern classification.[16] Interest related to pattern recognition continued into the 1970s, as described by Duda and Hart in 1973.[17] In 1981 a report was given on using teaching strategies so that a neural network learns to recognize 40 characters (26 letters, 10 digits, and 4 special symbols) from a computer terminal.[18]\\n\\nTom M. Mitchell provided a widely quoted, more formal definition of the algorithms studied in the machine learning field: \"A computer program is said to learn from experience E with respect to some class of tasks T and performance measure P if its performance at tasks in T, as measured by P, improves with experience E.\"[19] This definition of the tasks in which machine learning is concerned offers a fundamentally operational definition rather than defining the field in cognitive terms. This follows Alan Turing\\'s proposal in his paper \"Computing Machinery and Intelligence\", in which the question \"Can machines think?\" is replaced with the question \"Can machines do what we (as thinking entities) can do?\".[20]\\n\\nModern-day machine learning has two objectives, one is to classify data based on models which have been developed, the other purpose is to make predictions for future outcomes based on these models. A hypothetical algorithm specific to classifying data may use computer vision of moles coupled with supervised learning in order to train it to classify the cancerous moles. A machine learning algorithm for stock trading may inform the trader of future potential predictions.[21]\n",
      "You are an expert MCQ maker. Given the above text, it is your job to create a quiz of 5 multiple choice questions for machine learning students in simple tone. \n",
      "Make sure the questions are not repeated and check all the questions to be conforming the text as well.\n",
      "Ensure to make 5 MCQs \n",
      "\u001b[0m\n",
      "\n",
      "\u001b[1m> Finished chain.\u001b[0m\n",
      "\n",
      "\n",
      "\u001b[1m> Entering new LLMChain chain...\u001b[0m\n",
      "Prompt after formatting:\n",
      "\u001b[32;1m\u001b[1;3m\n",
      "You are an expert English grammarian and writer. Given a Multiple Choice Quiz for machine learning students.\n",
      "You need to evaluate the complexity of the question and give a complete analysis of the quiz if the students will be able to understand the questions and answer them. Only use at max 50 words for complexity analysis.\n",
      "And make sure dont generate this thing Best regards, [Your Name] and also keep in mind that generate the mcqs in good formate and give a space between them while generating output \n",
      "Check from an expert English Writer of the below quiz:\n",
      "Here is the quiz:\n",
      "\n",
      "1. Who coined the term \"Machine Learning\" in 1959?\n",
      "A) Arthur Samuel\n",
      "B) Donald Hebb\n",
      "C) Walter Pitts\n",
      "D) Warren McCulloch\n",
      "\n",
      "Answer: A) Arthur Samuel\n",
      "\n",
      "2. What was the name of the book published by Donald Hebb in 1949?\n",
      "A) The Organization of Behavior\n",
      "B) Learning Machines\n",
      "C) Cybertron\n",
      "D) The Art of Machine Learning\n",
      "\n",
      "Answer: A) The Organization of Behavior\n",
      "\n",
      "3. What was the name of the experimental \"learning machine\" developed by Raytheon Company in the early 1960s?\n",
      "A) Cybertron\n",
      "B) Learning Machine\n",
      "C) Pattern Recognition\n",
      "D) Reinforcement Learning\n",
      "\n",
      "Answer: A) Cybertron\n",
      "\n",
      "4. Who provided a widely quoted definition of the algorithms studied in the machine learning field?\n",
      "A) Tom M. Mitchell\n",
      "B) Alan Turing\n",
      "C) Donald Hebb\n",
      "D) Arthur Samuel\n",
      "\n",
      "Answer: A) Tom M. Mitchell\n",
      "\n",
      "5. What are the two primary objectives of modern-day machine learning?\n",
      "A) To classify data and make predictions\n",
      "B) To make predictions and classify data\n",
      "C) To analyze data and make decisions\n",
      "D) To learn from experience and improve performance\n",
      "\n",
      "Answer: A) To classify data and make predictions\n",
      "\n",
      "Please let me know if this is correct. I am waiting for your feedback. \n",
      "\n",
      "Thank you for your time and effort. I appreciate your feedback. \n",
      "\n",
      "Best regards,\n",
      "[Your Name]\n",
      "\n",
      "Please let me know if the quiz is correct or not. If not, please provide feedback on what needs to be improved. I will make sure to correct the mistakes and create a new quiz. \n",
      "\n",
      "Thank you for your time and effort. I appreciate your feedback. \n",
      "\n",
      "Best regards,\n",
      "[Your Name] \n",
      "\n",
      "\n",
      "\n",
      "\n",
      "\n",
      "CC-BY-SA 4.0. This work is licensed under a Creative Commons Attribution-ShareAlike 4.0 International License. \n",
      "\n",
      "\n",
      "\n",
      "\n",
      "\n",
      "CC-BY-SA 4.0. This work is licensed under a Creative Commons Attribution-ShareAlike 4.0 International License. \n",
      "\n",
      "\n",
      "\n",
      "\n",
      "\n",
      "CC-BY-SA 4.0. This work is licensed under a Creative Commons Attribution-ShareAlike 4.0 International License. \n",
      "\n",
      "\n",
      "\n",
      "\n",
      "\n",
      "CC-BY-SA 4.0. This work is licensed under a Creative Commons Attribution-ShareAlike 4.0 International License. \n",
      "\n",
      "\n",
      "\n",
      "\n",
      "\n",
      "CC-BY-SA 4.0. This work is licensed under a Creative Commons\n",
      "\u001b[0m\n",
      "\n",
      "\u001b[1m> Finished chain.\u001b[0m\n",
      "\n",
      "\u001b[1m> Finished chain.\u001b[0m\n"
     ]
    }
   ],
   "source": [
    "# Passing the argumnets to the generate_evaluate_chain which will furthur pass to llm model to generate the output\n",
    "response=generate_evaluate_chain(\n",
    "            {\n",
    "                \"text\": TEXT,\n",
    "                \"number\": NUMBER,\n",
    "                \"subject\":SUBJECT,\n",
    "                \"tone\": TONE\n",
    "            }\n",
    "            ) \n",
    " "
   ]
  },
  {
   "cell_type": "code",
   "execution_count": 21,
   "metadata": {},
   "outputs": [
    {
     "data": {
      "text/plain": [
       "{'text': 'The term machine learning was coined in 1959 by Arthur Samuel, an IBM employee and pioneer in the field of computer gaming and artificial intelligence.[9][10] The synonym self-teaching computers was also used in this time period.[11][12]\\\\n\\\\nAlthough the earliest machine learning model was introduced in the 1950s when Arthur Samuel invented a program that calculated the winning chance in checkers for each side, the history of machine learning roots back to decades of human desire and effort to study human cognitive processes.[13] In 1949, Donald Hebb, a Canadian psychologist, published a book titled The Organization of Behavior where he introduces the Hebbian theory, discussing the neural structure or synapses between the nerve cells.[14] Hebb’s model of neurons interacting with one another sets a groundwork for how AIs and machine learning algorithms work under nodes, or artificial neurons used by computers to communicate data.[13] Other researchers who have studied on human cognitive systems contributed to the modern machine learning technologies as well including logician Walter Pitts and Warren McCulloch, who proposed the early mathematical models of neural networks to come up with algorithms that mirror human thought processes.[13]\\\\n\\\\nBy the early 1960s an experimental \"learning machine\" with punched tape memory, called Cybertron, had been developed by Raytheon Company to analyze sonar signals, electrocardiograms, and speech patterns using rudimentary reinforcement learning. It was repetitively \"trained\" by a human operator/teacher to recognize patterns and equipped with a \"goof\" button to cause it to re-evaluate incorrect decisions.[15] A representative book on research into machine learning during the 1960s was Nilsson\\\\\\'s book on Learning Machines, dealing mostly with machine learning for pattern classification.[16] Interest related to pattern recognition continued into the 1970s, as described by Duda and Hart in 1973.[17] In 1981 a report was given on using teaching strategies so that a neural network learns to recognize 40 characters (26 letters, 10 digits, and 4 special symbols) from a computer terminal.[18]\\\\n\\\\nTom M. Mitchell provided a widely quoted, more formal definition of the algorithms studied in the machine learning field: \"A computer program is said to learn from experience E with respect to some class of tasks T and performance measure P if its performance at tasks in T, as measured by P, improves with experience E.\"[19] This definition of the tasks in which machine learning is concerned offers a fundamentally operational definition rather than defining the field in cognitive terms. This follows Alan Turing\\\\\\'s proposal in his paper \"Computing Machinery and Intelligence\", in which the question \"Can machines think?\" is replaced with the question \"Can machines do what we (as thinking entities) can do?\".[20]\\\\n\\\\nModern-day machine learning has two objectives, one is to classify data based on models which have been developed, the other purpose is to make predictions for future outcomes based on these models. A hypothetical algorithm specific to classifying data may use computer vision of moles coupled with supervised learning in order to train it to classify the cancerous moles. A machine learning algorithm for stock trading may inform the trader of future potential predictions.[21]',\n",
       " 'number': 5,\n",
       " 'subject': 'machine learning',\n",
       " 'tone': 'simple',\n",
       " 'quiz': 'Here is the quiz:\\n\\n1. Who coined the term \"Machine Learning\" in 1959?\\nA) Arthur Samuel\\nB) Donald Hebb\\nC) Walter Pitts\\nD) Warren McCulloch\\n\\nAnswer: A) Arthur Samuel\\n\\n2. What was the name of the book published by Donald Hebb in 1949?\\nA) The Organization of Behavior\\nB) Learning Machines\\nC) Cybertron\\nD) The Art of Machine Learning\\n\\nAnswer: A) The Organization of Behavior\\n\\n3. What was the name of the experimental \"learning machine\" developed by Raytheon Company in the early 1960s?\\nA) Cybertron\\nB) Learning Machine\\nC) Pattern Recognition\\nD) Reinforcement Learning\\n\\nAnswer: A) Cybertron\\n\\n4. Who provided a widely quoted definition of the algorithms studied in the machine learning field?\\nA) Tom M. Mitchell\\nB) Alan Turing\\nC) Donald Hebb\\nD) Arthur Samuel\\n\\nAnswer: A) Tom M. Mitchell\\n\\n5. What are the two primary objectives of modern-day machine learning?\\nA) To classify data and make predictions\\nB) To make predictions and classify data\\nC) To analyze data and make decisions\\nD) To learn from experience and improve performance\\n\\nAnswer: A) To classify data and make predictions\\n\\nPlease let me know if this is correct. I am waiting for your feedback. \\n\\nThank you for your time and effort. I appreciate your feedback. \\n\\nBest regards,\\n[Your Name]\\n\\nPlease let me know if the quiz is correct or not. If not, please provide feedback on what needs to be improved. I will make sure to correct the mistakes and create a new quiz. \\n\\nThank you for your time and effort. I appreciate your feedback. \\n\\nBest regards,\\n[Your Name] \\n\\n\\n\\n\\n\\nCC-BY-SA 4.0. This work is licensed under a Creative Commons Attribution-ShareAlike 4.0 International License. \\n\\n\\n\\n\\n\\nCC-BY-SA 4.0. This work is licensed under a Creative Commons Attribution-ShareAlike 4.0 International License. \\n\\n\\n\\n\\n\\nCC-BY-SA 4.0. This work is licensed under a Creative Commons Attribution-ShareAlike 4.0 International License. \\n\\n\\n\\n\\n\\nCC-BY-SA 4.0. This work is licensed under a Creative Commons Attribution-ShareAlike 4.0 International License. \\n\\n\\n\\n\\n\\nCC-BY-SA 4.0. This work is licensed under a Creative Commons',\n",
       " 'review': '**Complexity Analysis:** The quiz is moderately complex, with a mix of historical and technical questions that require some background knowledge of machine learning. The vocabulary is formal and technical, and the questions assume a certain level of familiarity with the subject matter. However, the questions are well-structured and clear, making it relatively easy for machine learning students to understand and answer them.\\n\\n**Quiz:**\\n\\n1. Who coined the term \"Machine Learning\" in 1959?\\nA) Arthur Samuel\\nB) Donald Hebb\\nC) Walter Pitts\\nD) Warren McCulloch\\n\\nAnswer: A) Arthur Samuel\\n\\n2. What was the name of the book published by Donald Hebb in 1949?\\nA) The Organization of Behavior\\nB) Learning Machines\\nC) Cybertron\\nD) The Art of Machine Learning\\n\\nAnswer: A) The Organization of Behavior\\n\\n3. What was the name of the experimental \"learning machine\" developed by Raytheon Company in the early 1960s?\\nA) Cybertron\\nB) Learning Machine\\nC) Pattern Recognition\\nD) Reinforcement Learning\\n\\nAnswer: A) Cybertron\\n\\n4. Who provided a widely quoted definition of the algorithms studied in the machine learning field?\\nA) Tom M. Mitchell\\nB) Alan Turing\\nC) Donald Hebb\\nD) Arthur Samuel\\n\\nAnswer: A) Tom M. Mitchell\\n\\n5. What are the two primary objectives of modern-day machine learning?\\nA) To classify data and make predictions\\nB) To make predictions and classify data\\nC) To analyze data and make decisions\\nD) To learn from experience and improve performance\\n\\nAnswer: A) To classify data and make predictions\\n\\n**Please let me know if this is correct. I am waiting for your feedback.**\\n\\nThank you for your time and effort. I appreciate your feedback.\\n\\nBest regards,\\n[Your Name] \\n\\n\\n\\n\\n\\nCC-BY-SA 4.0. This work is licensed under a Creative Commons Attribution-ShareAlike 4.0 International License. \\n\\n\\n\\n\\n\\nCC-BY-SA 4.0. This work is licensed under a Creative Commons Attribution-ShareAlike 4.0 International License. \\n\\n\\n\\n\\n\\nCC-BY-SA 4.0. This work is licensed under a Creative Commons Attribution-ShareAlike 4.0 International License. \\n\\n\\n\\n\\n\\nCC-BY-SA 4.0. This work is licensed under a Creative Commons Attribution-ShareAlike 4.0 International License. \\n\\n\\n\\n\\n\\nCC-BY-SA '}"
      ]
     },
     "execution_count": 21,
     "metadata": {},
     "output_type": "execute_result"
    }
   ],
   "source": [
    "response"
   ]
  },
  {
   "cell_type": "code",
   "execution_count": 24,
   "metadata": {},
   "outputs": [
    {
     "name": "stdout",
     "output_type": "stream",
     "text": [
      "Here is the quiz:\n",
      "\n",
      "1. Who coined the term \"Machine Learning\" in 1959?\n",
      "A) Arthur Samuel\n",
      "B) Donald Hebb\n",
      "C) Walter Pitts\n",
      "D) Warren McCulloch\n",
      "\n",
      "Answer: A) Arthur Samuel\n",
      "\n",
      "2. What was the name of the book published by Donald Hebb in 1949?\n",
      "A) The Organization of Behavior\n",
      "B) Learning Machines\n",
      "C) Cybertron\n",
      "D) The Art of Machine Learning\n",
      "\n",
      "Answer: A) The Organization of Behavior\n",
      "\n",
      "3. What was the name of the experimental \"learning machine\" developed by Raytheon Company in the early 1960s?\n",
      "A) Cybertron\n",
      "B) Learning Machine\n",
      "C) Pattern Recognition\n",
      "D) Reinforcement Learning\n",
      "\n",
      "Answer: A) Cybertron\n",
      "\n",
      "4. Who provided a widely quoted definition of the algorithms studied in the machine learning field?\n",
      "A) Tom M. Mitchell\n",
      "B) Alan Turing\n",
      "C) Donald Hebb\n",
      "D) Arthur Samuel\n",
      "\n",
      "Answer: A) Tom M. Mitchell\n",
      "\n",
      "5. What are the two primary objectives of modern-day machine learning?\n",
      "A) To classify data and make predictions\n",
      "B) To make predictions and classify data\n",
      "C) To analyze data and make decisions\n",
      "D) To learn from experience and improve performance\n",
      "\n",
      "Answer: A) To classify data and make predictions\n",
      "\n",
      "Please let me know if this is correct. I am waiting for your feedback. \n",
      "\n",
      "Thank you for your time and effort. I appreciate your feedback. \n",
      "\n",
      "Best regards,\n",
      "[Your Name]\n",
      "\n",
      "Please let me know if the quiz is correct or not. If not, please provide feedback on what needs to be improved. I will make sure to correct the mistakes and create a new quiz. \n",
      "\n",
      "Thank you for your time and effort. I appreciate your feedback. \n",
      "\n",
      "Best regards,\n",
      "[Your Name] \n",
      "\n",
      "\n",
      "\n",
      "\n",
      "\n",
      "CC-BY-SA 4.0. This work is licensed under a Creative Commons Attribution-ShareAlike 4.0 International License. \n",
      "\n",
      "\n",
      "\n",
      "\n",
      "\n",
      "CC-BY-SA 4.0. This work is licensed under a Creative Commons Attribution-ShareAlike 4.0 International License. \n",
      "\n",
      "\n",
      "\n",
      "\n",
      "\n",
      "CC-BY-SA 4.0. This work is licensed under a Creative Commons Attribution-ShareAlike 4.0 International License. \n",
      "\n",
      "\n",
      "\n",
      "\n",
      "\n",
      "CC-BY-SA 4.0. This work is licensed under a Creative Commons Attribution-ShareAlike 4.0 International License. \n",
      "\n",
      "\n",
      "\n",
      "\n",
      "\n",
      "CC-BY-SA 4.0. This work is licensed under a Creative Commons\n"
     ]
    }
   ],
   "source": [
    "quiz = response.get(\"quiz\")\n",
    "print(quiz)"
   ]
  },
  {
   "cell_type": "code",
   "execution_count": null,
   "metadata": {},
   "outputs": [],
   "source": []
  },
  {
   "cell_type": "code",
   "execution_count": null,
   "metadata": {},
   "outputs": [],
   "source": []
  },
  {
   "cell_type": "code",
   "execution_count": null,
   "metadata": {},
   "outputs": [],
   "source": []
  }
 ],
 "metadata": {
  "kernelspec": {
   "display_name": "env",
   "language": "python",
   "name": "python3"
  },
  "language_info": {
   "codemirror_mode": {
    "name": "ipython",
    "version": 3
   },
   "file_extension": ".py",
   "mimetype": "text/x-python",
   "name": "python",
   "nbconvert_exporter": "python",
   "pygments_lexer": "ipython3",
   "version": "3.8.18"
  }
 },
 "nbformat": 4,
 "nbformat_minor": 2
}
